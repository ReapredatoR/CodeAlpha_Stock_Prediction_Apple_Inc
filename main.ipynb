{
 "cells": [
  {
   "cell_type": "markdown",
   "metadata": {},
   "source": [
    "# Importing necessary libraries"
   ]
  },
  {
   "cell_type": "code",
   "execution_count": null,
   "metadata": {},
   "outputs": [],
   "source": [
    "import numpy as np\n",
    "import pandas as pd\n",
    "import matplotlib.pyplot as plt\n",
    "import seaborn as sns\n",
    "from sklearn.preprocessing import MinMaxScaler\n",
    "from keras.models import Sequential\n",
    "from keras.layers import LSTM, Dense\n",
    "from sklearn.metrics import mean_squared_error, mean_absolute_error, r2_score\n",
    "import tensorflow as tf "
   ]
  },
  {
   "cell_type": "code",
   "execution_count": null,
   "metadata": {},
   "outputs": [],
   "source": [
    "# Load the dataset (provide a direct link to the dataset)\n",
    "df = pd.read_csv('Data/AAPL.csv')\n",
    "\n",
    "# Display the first few rows of the dataset\n",
    "print(\"Initial dataset:\")\n",
    "print(df.head())"
   ]
  },
  {
   "cell_type": "markdown",
   "metadata": {},
   "source": [
    "# Cleaning Data"
   ]
  },
  {
   "cell_type": "code",
   "execution_count": null,
   "metadata": {},
   "outputs": [],
   "source": [
    "# check for duplicates\n",
    "duplicate_dates = df[df.duplicated(subset='Date')]\n",
    "print(\"Duplicate Dates:\")\n",
    "print(duplicate_dates)\n",
    "\n",
    "# Check for missing values\n",
    "print(\"\\nChecking for missing values:\")\n",
    "print(df.isnull().sum())"
   ]
  },
  {
   "cell_type": "markdown",
   "metadata": {},
   "source": [
    "# Exploratory Data Analysis (EDA)"
   ]
  },
  {
   "cell_type": "code",
   "execution_count": null,
   "metadata": {},
   "outputs": [],
   "source": [
    "# Convert 'Date' column to datetime format and set it as index\n",
    "df['Date'] = pd.to_datetime(df['Date'])\n",
    "df.set_index('Date', inplace=True)"
   ]
  },
  {
   "cell_type": "code",
   "execution_count": null,
   "metadata": {},
   "outputs": [],
   "source": [
    "# Plotting Histogram\n",
    "plt.figure(figsize=(20, 8))\n",
    "plt.hist(df['Adj Close'], bins=20, color='LimeGreen')\n",
    "plt.title('Histogram of Apple Stock Prices')\n",
    "plt.xlabel('Apple Stocks')\n",
    "plt.ylabel('Frequency')\n",
    "plt.show()"
   ]
  },
  {
   "cell_type": "code",
   "execution_count": null,
   "metadata": {},
   "outputs": [],
   "source": [
    "# Plotting Scatter Plot\n",
    "plt.figure(figsize=(20, 8))\n",
    "sns.scatterplot(df['Adj Close'])\n",
    "plt.title('Apple Stocks from 2021 to 2022')\n",
    "plt.ylabel('Stocks')\n",
    "plt.xlabel('Date')\n",
    "plt.xticks(rotation=90)\n",
    "plt.show()"
   ]
  },
  {
   "cell_type": "code",
   "execution_count": null,
   "metadata": {},
   "outputs": [],
   "source": [
    "# Plotting Time Series Trend\n",
    "plt.figure(figsize=(20, 8))\n",
    "plt.plot(df['Adj Close'])\n",
    "plt.title('Apple Stocks Trend')\n",
    "plt.show()"
   ]
  },
  {
   "cell_type": "code",
   "execution_count": null,
   "metadata": {},
   "outputs": [],
   "source": [
    "# Pairplot to visualize relationships between different features\n",
    "sns.pairplot(df)\n",
    "plt.title('Pairplot of Features')\n",
    "plt.show()"
   ]
  },
  {
   "cell_type": "code",
   "execution_count": null,
   "metadata": {},
   "outputs": [],
   "source": [
    "# Correlation matrix to identify linear relationships\n",
    "correlation_matrix = df.corr()\n",
    "plt.figure(figsize=(10, 8))\n",
    "sns.heatmap(correlation_matrix, annot=True, cmap='coolwarm', linewidths=.5)\n",
    "plt.title('Correlation Matrix')\n",
    "plt.show()"
   ]
  },
  {
   "cell_type": "markdown",
   "metadata": {},
   "source": [
    "# Modeling"
   ]
  },
  {
   "cell_type": "code",
   "execution_count": null,
   "metadata": {},
   "outputs": [],
   "source": [
    "# Extract the 'Close' column for further analysis\n",
    "closing_prices = df.filter(['Close']).values\n",
    "\n",
    "# Scale the data\n",
    "scaler = MinMaxScaler(feature_range=(0, 1))\n",
    "scaled_prices = scaler.fit_transform(closing_prices)\n",
    "\n",
    "# Create training dataset\n",
    "train_data = scaled_prices[:int(len(scaled_prices) * 0.95), :]\n",
    "train_features, train_labels = [], []\n",
    "\n",
    "# Prepare training data\n",
    "for i in range(60, len(train_data)):\n",
    "  train_features.append(train_data[i-60:i, 0])\n",
    "  train_labels.append(train_data[i, 0])\n",
    "\n",
    "train_features, train_labels = np.array(train_features), np.array(train_labels)\n",
    "\n",
    "# Reshape the data for LSTM\n",
    "train_features = np.reshape(train_features, (train_features.shape[0], train_features.shape[1], 1))\n",
    "\n",
    "# Build the LSTM model\n",
    "model = Sequential()\n",
    "model.add(LSTM(units=50, return_sequences=True, input_shape=(train_features.shape[1], 1)))\n",
    "model.add(LSTM(units=50, return_sequences=True))\n",
    "model.add(LSTM(units=50))\n",
    "model.add(Dense(units=1))\n",
    "\n",
    "# Compile the model\n",
    "model.compile(optimizer='adam', loss='mean_squared_error')\n",
    "\n",
    "# Fit the model to the training data\n",
    "model.fit(train_features, train_labels, epochs=25, batch_size=32)\n",
    "\n",
    "# Create the testing dataset\n",
    "test_data = scaled_prices[int(len(scaled_prices) * 0.95) - 60:, :]\n",
    "x_test, y_test = [], closing_prices[int(len(closing_prices) * 0.95):, :]\n",
    "\n",
    "# Prepare testing data\n",
    "for i in range(60, len(test_data)):\n",
    "  x_test.append(test_data[i-60:i, 0])\n",
    "\n",
    "x_test = np.array(x_test)\n",
    "x_test = np.reshape(x_test, (x_test.shape[0], x_test.shape[1], 1))\n",
    "\n",
    "# Get the models predicted price values\n",
    "predictions = model.predict(x_test)\n",
    "predictions = scaler.inverse_transform(predictions)"
   ]
  },
  {
   "cell_type": "markdown",
   "metadata": {},
   "source": [
    "# Visualizing the results"
   ]
  },
  {
   "cell_type": "code",
   "execution_count": null,
   "metadata": {},
   "outputs": [],
   "source": [
    "training_set = df.iloc[:int(len(closing_prices) * 0.95)]\n",
    "validation_set = df.iloc[int(len(closing_prices) * 0.95):]\n",
    "validation_set.loc[:, 'Predictions'] = predictions.copy()"
   ]
  },
  {
   "cell_type": "code",
   "execution_count": null,
   "metadata": {},
   "outputs": [],
   "source": [
    "# Visualize the predicted prices compared to actual prices\n",
    "plt.figure(figsize=(16, 8))\n",
    "plt.title('Stock Price Prediction using LSTM')\n",
    "plt.xlabel('Date')\n",
    "plt.ylabel('Close Price USD ($)')\n",
    "plt.plot(training_set['Close'], label='Training Data')\n",
    "plt.plot(validation_set[['Close', 'Predictions']], label=['Actual Prices', 'Predicted Prices'])\n",
    "plt.legend(loc='lower right')\n",
    "plt.show()"
   ]
  },
  {
   "cell_type": "markdown",
   "metadata": {},
   "source": [
    "# Evaluation"
   ]
  },
  {
   "cell_type": "code",
   "execution_count": null,
   "metadata": {},
   "outputs": [],
   "source": [
    "# Model Evaluation Metrics\n",
    "mse_lstm = mean_squared_error(validation_set['Close'], validation_set['Predictions'])\n",
    "rmse_lstm = np.sqrt(mse_lstm)\n",
    "mae_lstm = mean_absolute_error(validation_set['Close'], validation_set['Predictions'])\n",
    "mape_lstm = np.mean(np.abs((validation_set['Close'] - validation_set['Predictions']) / validation_set['Close'])) * 100\n",
    "r2_lstm = r2_score(validation_set['Close'], validation_set['Predictions'])\n",
    "\n",
    "print('\\nLSTM Model Evaluation:')\n",
    "print(f'MSE: {mse_lstm:.2f}')\n",
    "print(f'RMSE: {rmse_lstm:.2f}')\n",
    "print(f'MAE: {mae_lstm:.2f}')\n",
    "print(f'MAPE: {mape_lstm:.2f}%')\n",
    "print(f'R2 Score: {r2_lstm:.2f}')\n",
    "\n",
    "# Additional Insights\n",
    "start_date_predictions = validation_set.index[0]\n",
    "print(f'The LSTM model predictions start from {start_date_predictions}')"
   ]
  }
 ],
 "metadata": {
  "kernelspec": {
   "display_name": "Python 3",
   "language": "python",
   "name": "python3"
  },
  "language_info": {
   "codemirror_mode": {
    "name": "ipython",
    "version": 3
   },
   "file_extension": ".py",
   "mimetype": "text/x-python",
   "name": "python",
   "nbconvert_exporter": "python",
   "pygments_lexer": "ipython3",
   "version": "3.11.6"
  }
 },
 "nbformat": 4,
 "nbformat_minor": 2
}
